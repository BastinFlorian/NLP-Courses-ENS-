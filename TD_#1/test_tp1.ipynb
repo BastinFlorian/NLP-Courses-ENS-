{
 "cells": [
  {
   "cell_type": "code",
   "execution_count": 1,
   "metadata": {
    "collapsed": true
   },
   "outputs": [],
   "source": [
    "import numpy as np\n",
    "import spectral\n",
    "import librosa\n",
    "import os\n",
    "import scipy.io.wavfile as wav\n",
    "import sklearn\n",
    "from sklearn.neural_network import MLPClassifier\n",
    "#os.chdir('/Users/neilz/Downloads/speech_commands_v0.01')\n",
    "import time\n",
    "import random\n",
    "import matplotlib.pyplot as plt\n",
    "%matplotlib inline\n",
    "random.seed(777)"
   ]
  }
 ],
 "metadata": {
  "kernelspec": {
   "display_name": "TD1_MVA",
   "language": "python",
   "name": "td1"
  },
  "language_info": {
   "codemirror_mode": {
    "name": "ipython",
    "version": 2
   },
   "file_extension": ".py",
   "mimetype": "text/x-python",
   "name": "python",
   "nbconvert_exporter": "python",
   "pygments_lexer": "ipython2",
   "version": "2.7.14"
  }
 },
 "nbformat": 4,
 "nbformat_minor": 0
}
